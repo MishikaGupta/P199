{
 "cells": [
  {
   "cell_type": "code",
   "execution_count": 4,
   "metadata": {},
   "outputs": [
    {
     "name": "stdout",
     "output_type": "stream",
     "text": [
      "Name\n",
      "Build a GUI application for data visualization of word population and on various other parameters of world population\n"
     ]
    }
   ],
   "source": [
    "print(\"Name\")\n",
    "print(\"Build a GUI application for data visualization of word population and on various other parameters of world population\")\n"
   ]
  },
  {
   "cell_type": "markdown",
   "metadata": {},
   "source": [
    "# Task - Build a GUI application for data visualization of word population and on various other parameters of world population"
   ]
  },
  {
   "cell_type": "code",
   "execution_count": 8,
   "metadata": {},
   "outputs": [
    {
     "name": "stdout",
     "output_type": "stream",
     "text": [
      "C:/Users/OWNER/Jupyter/ADV-Project_C199/population_by_country_2020.csv\n"
     ]
    },
    {
     "data": {
      "application/vnd.jupyter.widget-view+json": {
       "model_id": "b6601563747446619cd1b88967219160",
       "version_major": 2,
       "version_minor": 0
      },
      "text/plain": [
       "interactive(children=(Dropdown(description='xaxis', options=('Country (or dependency)', 'Population (2020)', '…"
      ]
     },
     "metadata": {},
     "output_type": "display_data"
    }
   ],
   "source": [
    "#image \n",
    "#predefine code for image\n",
    "from IPython.display import Image\n",
    "Image(filename='map.jpg') \n",
    "#predefine code end\n",
    "from ipywidgets import widgets\n",
    "from IPython.display import display, clear_output\n",
    "import pandas as pd\n",
    "import matplotlib.pyplot as plt \n",
    "from tkinter import Tk, filedialog\n",
    "\n",
    "graph_type = ['Choose one...','Bubble', 'Bar' ]\n",
    "df = \" \"\n",
    "def print_dataframe(b):\n",
    "    clear_output()\n",
    "    global graph_type\n",
    "    global df\n",
    "    root = Tk()\n",
    "    root.withdraw()\n",
    "    file_name = filedialog.askopenfilename()\n",
    "    df =  pd.read_csv(file_name)\n",
    "    print(file_name)\n",
    "    xlabel_widget = widgets.Dropdown(options = df.columns)\n",
    "    ylabel_widget = widgets.Dropdown(options = df.columns)\n",
    "    graph_widget = widgets.Dropdown(option= graph_type)\n",
    "    graph = widgets.interactive(display_plot, xaxis= xlabel_widget, yaxis=ylabel_widget, graph_type = graph_widget)\n",
    "    display(graph)\n",
    "fileselect = widgets.Button(description = \"Files select\")\n",
    "fileselect.on_click(print_dataframe)\n",
    "display(fileselect)\n",
    "\n",
    "def display_plot(xaxis , yaxis, graph_type):\n",
    "    global df\n",
    "    if (graph_type == 'Bubble'):\n",
    "        plt.subplots(figsize = (19,8))\n",
    "        plt.scatter(df[xaxis], df[yaxis], c = rgb, alfa = 0.4, s=df[yaxis]/40000)\n",
    "        plt.xlabel(xaxis)\n",
    "        plt.ylabel(yaxis)\n",
    "        plt.show()\n",
    "    elif(graph_type == 'Bar'):\n",
    "        plt.subplots(figsize = (19,8))\n",
    "        plt.bar(df[xaxis], df[yaxis], color = ['red', 'green', 'blue', 'yellow', 'pink'])\n",
    "        plt.xlabel(xaxis)\n",
    "        plt.xticks(rotation='vertical')\n",
    "        plt.ylabel(yaxis)\n",
    "        plt.show()\n",
    "    else:\n",
    "        print(\"Choose valid graph\")\n",
    "    "
   ]
  },
  {
   "cell_type": "code",
   "execution_count": null,
   "metadata": {},
   "outputs": [],
   "source": []
  },
  {
   "cell_type": "code",
   "execution_count": null,
   "metadata": {},
   "outputs": [],
   "source": []
  }
 ],
 "metadata": {
  "kernelspec": {
   "display_name": "Python 3 (ipykernel)",
   "language": "python",
   "name": "python3"
  },
  "language_info": {
   "codemirror_mode": {
    "name": "ipython",
    "version": 3
   },
   "file_extension": ".py",
   "mimetype": "text/x-python",
   "name": "python",
   "nbconvert_exporter": "python",
   "pygments_lexer": "ipython3",
   "version": "3.9.7"
  }
 },
 "nbformat": 4,
 "nbformat_minor": 4
}
